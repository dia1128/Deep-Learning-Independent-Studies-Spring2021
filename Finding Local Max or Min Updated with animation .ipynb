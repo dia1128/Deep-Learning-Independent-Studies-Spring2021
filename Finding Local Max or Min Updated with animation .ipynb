{
 "cells": [
  {
   "cell_type": "code",
   "execution_count": 7,
   "metadata": {},
   "outputs": [
    {
     "name": "stderr",
     "output_type": "stream",
     "text": [
      "<ipython-input-7-a6f67c2332b4>:11: UserWarning: To copy construct from a tensor, it is recommended to use sourceTensor.clone().detach() or sourceTensor.clone().detach().requires_grad_(True), rather than torch.tensor(sourceTensor).\n",
      "  x = torch.tensor(torch.arange(-6.0,1.0,0.0001),requires_grad = True)\n",
      "  0%|          | 0/1000 [00:00<?, ?it/s]<ipython-input-7-a6f67c2332b4>:32: UserWarning: To copy construct from a tensor, it is recommended to use sourceTensor.clone().detach() or sourceTensor.clone().detach().requires_grad_(True), rather than torch.tensor(sourceTensor).\n",
      "  p = torch.tensor(p + learning_rate*grad, requires_grad=True)\n",
      " 15%|█▍        | 149/1000 [00:00<00:00, 4258.90it/s]\n"
     ]
    },
    {
     "data": {
      "image/png": "[encoded data removed]",
      "text/plain": [
       "<Figure size 432x288 with 1 Axes>"
      ]
     },
     "metadata": {
      "needs_background": "light"
     },
     "output_type": "display_data"
    }
   ],
   "source": [
    "import torch\n",
    "from matplotlib import pyplot as plt\n",
    "import numpy as np\n",
    "from matplotlib import animation\n",
    "from tqdm  import tqdm\n",
    "\n",
    "#creating the curve\n",
    "\n",
    "fig, ax = plt.subplots()               \n",
    "               \n",
    "x = torch.tensor(torch.arange(-6.0,1.0,0.0001),requires_grad = True) \n",
    "y_temp = 3*x - 6*x**3 - x**4 + 4\n",
    "\n",
    "for i in range(0,x.size(0)):\n",
    "    y = y_temp ## defining y tensor\n",
    "    \n",
    "\n",
    "\n",
    "#Point\n",
    "learning_rate = 0.001\n",
    "iterations = 1000\n",
    "p=torch.tensor([-2.],requires_grad = True) #starting with a random point like -2\n",
    "p_data = []\n",
    "q_data = []\n",
    "\n",
    "#Assigning derivative and their respective coordinates in p_data and q_data\n",
    "for i in tqdm(range(iterations)):\n",
    "    q = 3*p - 6*p**3 - p**4 + 4        \n",
    "    q.backward()\n",
    "    grad = p.grad\n",
    "    if(grad<0):\n",
    "        p = torch.tensor(p + learning_rate*grad, requires_grad=True)\n",
    "        if(torch.abs(grad) <=0.01):\n",
    "            break\n",
    "    else:\n",
    "        p = torch.tensor(p - learning_rate*grad, requires_grad=True)\n",
    "        if(torch.abs(grad) <=0.01):   #considering gradients that are very close to zero\n",
    "            break\n",
    "            \n",
    "    \n",
    "    p_data.append(p)\n",
    "    q_data.append(q)\n",
    "\n",
    "#defining axis\n",
    "ax = plt.axis([-6,1,-20,130])\n",
    "\n",
    "#initial plotting of point and line\n",
    "line, = plt.plot(x.detach().numpy(), y.detach().numpy())\n",
    "redDot, = plt.plot([p_data[0].detach().numpy()], [q_data[0].detach().numpy()], 'ro')\n",
    "plt.xlabel('x - axis')\n",
    "plt.ylabel('y - axis')\n",
    "plt.title('Finding Local Max/Min.')\n",
    "           \n",
    "#updating point\n",
    "def animate(i):\n",
    "    if(i<=len(p_data)):\n",
    "         redDot.set_data(p_data[i].detach().numpy(), q_data[i].detach().numpy())\n",
    "    return redDot,\n",
    "\n",
    "# create animation using the animate() function\n",
    "myAnimation = animation.FuncAnimation(fig, animate, \\\n",
    "                                      interval=100, blit=True, repeat=True)\n",
    "\n",
    "myAnimation.save('moving.mp4',  writer='ffmpeg')"
   ]
  },
  {
   "cell_type": "code",
   "execution_count": null,
   "metadata": {},
   "outputs": [],
   "source": []
  }
 ],
 "metadata": {
  "kernelspec": {
   "display_name": "Python 3",
   "language": "python",
   "name": "python3"
  },
  "language_info": {
   "codemirror_mode": {
    "name": "ipython",
    "version": 3
   },
   "file_extension": ".py",
   "mimetype": "text/x-python",
   "name": "python",
   "nbconvert_exporter": "python",
   "pygments_lexer": "ipython3",
   "version": "3.8.5"
  }
 },
 "nbformat": 4,
 "nbformat_minor": 4
}
